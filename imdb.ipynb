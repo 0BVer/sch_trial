{
 "cells": [
  {
   "cell_type": "code",
   "execution_count": 1,
   "id": "b6fb6540-c431-470d-8880-79f47be5b3c1",
   "metadata": {},
   "outputs": [],
   "source": [
    "import tensorflow\n",
    "from tensorflow.keras.datasets import imdb"
   ]
  },
  {
   "cell_type": "markdown",
   "id": "5a05090b-2c17-4b73-bb7f-4ad962525a1e",
   "metadata": {},
   "source": [
    "데이터 불러오기"
   ]
  },
  {
   "cell_type": "code",
   "execution_count": 2,
   "id": "4d65435b-a67e-41bb-8096-665411bfec17",
   "metadata": {},
   "outputs": [],
   "source": [
    "(train_data, train_labels), (test_data, test_lables) = imdb.load_data(num_words=10000)"
   ]
  },
  {
   "cell_type": "code",
   "execution_count": 3,
   "id": "a1af218b-e156-4bef-b0dc-8a9f88bfdb27",
   "metadata": {},
   "outputs": [
    {
     "data": {
      "text/plain": [
       "9999"
      ]
     },
     "execution_count": 3,
     "metadata": {},
     "output_type": "execute_result"
    }
   ],
   "source": [
    "max([max(sequence) for sequence in train_data])"
   ]
  },
  {
   "cell_type": "markdown",
   "id": "b34e5536-3d0a-4b78-aa57-a9b174ab8096",
   "metadata": {},
   "source": [
    "인코딩 된 데이터 디코딩 하기"
   ]
  },
  {
   "cell_type": "code",
   "execution_count": 4,
   "id": "6bc5d68f-db65-465a-836d-87d188878844",
   "metadata": {},
   "outputs": [],
   "source": [
    "# word_index = imdb.get_word_index()\n",
    "# reverse_word_index = dict([(value, key) for (key, value) in word_index.items()])\n",
    "# decoded_review = ' '.join([reverse_word_index.get(i - 3, '?') for i in train_data[0]])"
   ]
  },
  {
   "cell_type": "code",
   "execution_count": 5,
   "id": "1a62e423-e562-448a-8d65-04e24cc548a1",
   "metadata": {},
   "outputs": [],
   "source": [
    "# decoded_review"
   ]
  },
  {
   "cell_type": "markdown",
   "id": "51494e2d-1246-49d7-ab43-e8c8848a013c",
   "metadata": {},
   "source": [
    "직접 원핫인코딩 하기"
   ]
  },
  {
   "cell_type": "code",
   "execution_count": 6,
   "id": "02dce854-4d3c-4f9f-a16c-a6676fa59108",
   "metadata": {},
   "outputs": [],
   "source": [
    "import numpy as np\n",
    "def vectorize_sequence(sequences, dimension=10000):\n",
    "    results = np.zeros((len(sequences), dimension))\n",
    "    for i, sequence in enumerate(sequences):\n",
    "        results[i, sequence] = 1\n",
    "    return results\n",
    "\n",
    "x_train = vectorize_sequence(train_data)\n",
    "x_test = vectorize_sequence(test_data)"
   ]
  },
  {
   "cell_type": "code",
   "execution_count": 7,
   "id": "bc35841a-ecd2-424f-96f6-f01589252281",
   "metadata": {},
   "outputs": [
    {
     "data": {
      "text/plain": [
       "(25000, 10000)"
      ]
     },
     "execution_count": 7,
     "metadata": {},
     "output_type": "execute_result"
    }
   ],
   "source": [
    "x_train.shape"
   ]
  },
  {
   "cell_type": "markdown",
   "id": "b1084f43-703b-4d62-9fa2-01ed3a71cb47",
   "metadata": {},
   "source": [
    "모델 구성하기"
   ]
  },
  {
   "cell_type": "code",
   "execution_count": 8,
   "id": "9056af96-bf51-4a1e-92fb-991b42b498ba",
   "metadata": {},
   "outputs": [],
   "source": [
    "from tensorflow.keras import models, layers, Sequential\n",
    "\n",
    "model = models.Sequential()\n",
    "model.add(layers.Dense(16, activation = 'relu', input_shape=(10000,)))\n",
    "model.add(layers.Dense(16, activation = 'relu'))\n",
    "model.add(layers.Dense(1, activation = 'sigmoid'))\n",
    "\n",
    "# model.summary()"
   ]
  },
  {
   "cell_type": "markdown",
   "id": "3f6fca41-da21-4974-a8d7-e220c8f32997",
   "metadata": {},
   "source": [
    "모델 컴파일 하기"
   ]
  },
  {
   "cell_type": "code",
   "execution_count": 9,
   "id": "7b804425-9874-4bd0-b1fd-61283960b60a",
   "metadata": {},
   "outputs": [],
   "source": [
    "model.compile(optimizer = 'rmsprop', \n",
    "              loss = 'binary_crossentropy', \n",
    "              metrics = ['accuracy'])"
   ]
  },
  {
   "cell_type": "markdown",
   "id": "0710e957-9bd6-4178-8ad8-c4797ae0aba9",
   "metadata": {},
   "source": [
    "옵티마이저, 손실, 측정함수 직접 설정하기"
   ]
  },
  {
   "cell_type": "code",
   "execution_count": 10,
   "id": "577d82e1-8b92-4578-87dd-e2b4d97e32e1",
   "metadata": {},
   "outputs": [],
   "source": [
    "# from tensorflow.keras import optimizers, losses, metrics\n",
    "\n",
    "# model.compile(optimizer = optimizers.RMSprop(lr=0.001),\n",
    "#               loss = losses.binary_crossentropy, \n",
    "#               metrics = [metrics.binary_accuracy])"
   ]
  }
 ],
 "metadata": {
  "kernelspec": {
   "display_name": "Python 3 (ipykernel)",
   "language": "python",
   "name": "python3"
  },
  "language_info": {
   "codemirror_mode": {
    "name": "ipython",
    "version": 3
   },
   "file_extension": ".py",
   "mimetype": "text/x-python",
   "name": "python",
   "nbconvert_exporter": "python",
   "pygments_lexer": "ipython3",
   "version": "3.7.0"
  }
 },
 "nbformat": 4,
 "nbformat_minor": 5
}
